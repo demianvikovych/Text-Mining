{
 "cells": [
  {
   "cell_type": "markdown",
   "metadata": {},
   "source": [
    "# Import packeges"
   ]
  },
  {
   "cell_type": "code",
   "execution_count": 43,
   "metadata": {},
   "outputs": [],
   "source": [
    "import json\n",
    "import string\n",
    "from nltk.stem import PorterStemmer\n",
    "from nltk.tokenize import word_tokenize\n",
    "from nltk.corpus import PlaintextCorpusReader, stopwords\n"
   ]
  },
  {
   "cell_type": "markdown",
   "metadata": {},
   "source": [
    "# Create documents corpus"
   ]
  },
  {
   "cell_type": "code",
   "execution_count": 44,
   "metadata": {},
   "outputs": [
    {
     "data": {
      "text/plain": [
       "['Chronicles of Narnia. Prince Caspian.txt',\n",
       " 'Chronicles of Narnia. The Horse and His Boy.txt',\n",
       " 'Chronicles of Narnia. The Last Battle.txt',\n",
       " 'Chronicles of Narnia. The Lion, the Witch and the Wardrobe.txt',\n",
       " 'Chronicles of Narnia. The Magicians Nephew.txt',\n",
       " 'Chronicles of Narnia. The Silver Chair.txt',\n",
       " 'Chronicles of Narnia. The Voyage of the Dawn Treader.txt',\n",
       " 'Fantastic Beasts and Where to Find Them.txt',\n",
       " 'Fantastic Beasts. The Crimes of Grindelwald.txt',\n",
       " 'Fantastic Beasts. The Secrets of Dumbledore.txt',\n",
       " 'Harry Potter and the Chamber of Secrets.txt',\n",
       " 'Harry Potter and the Deathly Hallows Part 1.txt',\n",
       " 'Harry Potter and the Deathly Hallows Part 2.txt',\n",
       " 'Harry Potter and the Goblet of Fire.txt',\n",
       " 'Harry Potter and the Half-Blood Prince.txt',\n",
       " 'Harry Potter and the Order of the Phoenix.txt',\n",
       " 'Harry Potter and the Philosophers Stone.txt',\n",
       " 'Harry Potter and the Prisoner of Azkaban.txt',\n",
       " 'Twilight Saga. Breaking Dawn Part 1.txt',\n",
       " 'Twilight Saga. Breaking Dawn Part 2.txt',\n",
       " 'Twilight Saga. Eclipse.txt',\n",
       " 'Twilight Saga. New Moon.txt',\n",
       " 'Twilight Saga. Twilight.txt']"
      ]
     },
     "execution_count": 44,
     "metadata": {},
     "output_type": "execute_result"
    }
   ],
   "source": [
    "corpus_dir = \"./Literature-original\"\n",
    "corpus = PlaintextCorpusReader(corpus_dir,\".*\\.txt\")\n",
    "files_names =corpus.fileids()\n",
    "files_names"
   ]
  },
  {
   "cell_type": "markdown",
   "metadata": {},
   "source": [
    "# Corpus documents preprocessing"
   ]
  },
  {
   "cell_type": "code",
   "execution_count": 45,
   "metadata": {},
   "outputs": [],
   "source": [
    "documents ={}\n",
    "for file_name in files_names:\n",
    "    documents[file_name] = corpus.raw(file_name)\n"
   ]
  },
  {
   "cell_type": "code",
   "execution_count": 46,
   "metadata": {},
   "outputs": [],
   "source": [
    "ps =PorterStemmer"
   ]
  },
  {
   "cell_type": "code",
   "execution_count": 47,
   "metadata": {},
   "outputs": [
    {
     "ename": "TypeError",
     "evalue": "PorterStemmer.stem() missing 1 required positional argument: 'word'",
     "output_type": "error",
     "traceback": [
      "\u001b[31m---------------------------------------------------------------------------\u001b[39m",
      "\u001b[31mTypeError\u001b[39m                                 Traceback (most recent call last)",
      "\u001b[36mCell\u001b[39m\u001b[36m \u001b[39m\u001b[32mIn[47]\u001b[39m\u001b[32m, line 4\u001b[39m\n\u001b[32m      2\u001b[39m     documents[file_name] = documents[file_name].lower()\n\u001b[32m      3\u001b[39m     documents[file_name] = \u001b[33m\"\u001b[39m\u001b[33m\"\u001b[39m.join([char \u001b[38;5;28;01mfor\u001b[39;00m char \u001b[38;5;129;01min\u001b[39;00m documents[file_name] \u001b[38;5;28;01mif\u001b[39;00m char \u001b[38;5;129;01mnot\u001b[39;00m \u001b[38;5;129;01min\u001b[39;00m string.punctuation])\n\u001b[32m----> \u001b[39m\u001b[32m4\u001b[39m     documents[file_name] = \u001b[33m\"\u001b[39m\u001b[33m \u001b[39m\u001b[33m\"\u001b[39m.join(\u001b[43m[\u001b[49m\u001b[43mps\u001b[49m\u001b[43m.\u001b[49m\u001b[43mstem\u001b[49m\u001b[43m(\u001b[49m\u001b[43mword\u001b[49m\u001b[43m)\u001b[49m\u001b[43m \u001b[49m\u001b[38;5;28;43;01mfor\u001b[39;49;00m\u001b[43m \u001b[49m\u001b[43mword\u001b[49m\u001b[43m \u001b[49m\u001b[38;5;129;43;01min\u001b[39;49;00m\u001b[43m \u001b[49m\u001b[43mword_tokenize\u001b[49m\u001b[43m(\u001b[49m\u001b[43mdocuments\u001b[49m\u001b[43m[\u001b[49m\u001b[43mfile_name\u001b[49m\u001b[43m]\u001b[49m\u001b[43m)\u001b[49m\u001b[43m]\u001b[49m)\n\u001b[32m      5\u001b[39m     documents[file_name] = \u001b[33m\"\u001b[39m\u001b[33m \u001b[39m\u001b[33m\"\u001b[39m.join(word \u001b[38;5;28;01mfor\u001b[39;00m word \u001b[38;5;129;01min\u001b[39;00m word_tokenize(documents[file_name]) \u001b[38;5;28;01mif\u001b[39;00m word \u001b[38;5;129;01mnot\u001b[39;00m \u001b[38;5;129;01min\u001b[39;00m \u001b[38;5;28mlist\u001b[39m(stopwords.words(\u001b[33m'\u001b[39m\u001b[33menglish\u001b[39m\u001b[33m'\u001b[39m)))\n\u001b[32m      6\u001b[39m \u001b[38;5;28mprint\u001b[39m (json.dumps(documents,indent=\u001b[32m4\u001b[39m , ensure_ascii = \u001b[38;5;28;01mFalse\u001b[39;00m))\n",
      "\u001b[36mCell\u001b[39m\u001b[36m \u001b[39m\u001b[32mIn[47]\u001b[39m\u001b[32m, line 4\u001b[39m, in \u001b[36m<listcomp>\u001b[39m\u001b[34m(.0)\u001b[39m\n\u001b[32m      2\u001b[39m     documents[file_name] = documents[file_name].lower()\n\u001b[32m      3\u001b[39m     documents[file_name] = \u001b[33m\"\u001b[39m\u001b[33m\"\u001b[39m.join([char \u001b[38;5;28;01mfor\u001b[39;00m char \u001b[38;5;129;01min\u001b[39;00m documents[file_name] \u001b[38;5;28;01mif\u001b[39;00m char \u001b[38;5;129;01mnot\u001b[39;00m \u001b[38;5;129;01min\u001b[39;00m string.punctuation])\n\u001b[32m----> \u001b[39m\u001b[32m4\u001b[39m     documents[file_name] = \u001b[33m\"\u001b[39m\u001b[33m \u001b[39m\u001b[33m\"\u001b[39m.join([\u001b[43mps\u001b[49m\u001b[43m.\u001b[49m\u001b[43mstem\u001b[49m\u001b[43m(\u001b[49m\u001b[43mword\u001b[49m\u001b[43m)\u001b[49m \u001b[38;5;28;01mfor\u001b[39;00m word \u001b[38;5;129;01min\u001b[39;00m word_tokenize(documents[file_name])])\n\u001b[32m      5\u001b[39m     documents[file_name] = \u001b[33m\"\u001b[39m\u001b[33m \u001b[39m\u001b[33m\"\u001b[39m.join(word \u001b[38;5;28;01mfor\u001b[39;00m word \u001b[38;5;129;01min\u001b[39;00m word_tokenize(documents[file_name]) \u001b[38;5;28;01mif\u001b[39;00m word \u001b[38;5;129;01mnot\u001b[39;00m \u001b[38;5;129;01min\u001b[39;00m \u001b[38;5;28mlist\u001b[39m(stopwords.words(\u001b[33m'\u001b[39m\u001b[33menglish\u001b[39m\u001b[33m'\u001b[39m)))\n\u001b[32m      6\u001b[39m \u001b[38;5;28mprint\u001b[39m (json.dumps(documents,indent=\u001b[32m4\u001b[39m , ensure_ascii = \u001b[38;5;28;01mFalse\u001b[39;00m))\n",
      "\u001b[31mTypeError\u001b[39m: PorterStemmer.stem() missing 1 required positional argument: 'word'"
     ]
    }
   ],
   "source": [
    "for file_name in documents:\n",
    "    documents[file_name] = documents[file_name].lower()\n",
    "    documents[file_name] = \"\".join([char for char in documents[file_name] if char not in string.punctuation])\n",
    "    documents[file_name] = \" \".join([ps.stem(word) for word in word_tokenize(documents[file_name])])\n",
    "    documents[file_name] = \" \".join(word for word in word_tokenize(documents[file_name]) if word not in list(stopwords.words('english')))\n",
    "print (json.dumps(documents,indent=4 , ensure_ascii = False))\n",
    "\n"
   ]
  }
 ],
 "metadata": {
  "kernelspec": {
   "display_name": ".venv",
   "language": "python",
   "name": "python3"
  },
  "language_info": {
   "codemirror_mode": {
    "name": "ipython",
    "version": 3
   },
   "file_extension": ".py",
   "mimetype": "text/x-python",
   "name": "python",
   "nbconvert_exporter": "python",
   "pygments_lexer": "ipython3",
   "version": "3.11.4"
  }
 },
 "nbformat": 4,
 "nbformat_minor": 2
}
